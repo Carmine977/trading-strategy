{
 "cells": [
  {
   "cell_type": "markdown",
   "metadata": {},
   "source": [
    "# Back-testing Simulator"
   ]
  },
  {
   "cell_type": "markdown",
   "metadata": {},
   "source": [
    "### Load Libraries"
   ]
  },
  {
   "cell_type": "code",
   "execution_count": 1,
   "metadata": {
    "collapsed": true
   },
   "outputs": [],
   "source": [
    "import pandas as pd\n",
    "import numpy as np\n",
    "import os\n",
    "from utils.util import get_data, plot_data, get_bollinger_bands\n",
    "import matplotlib.pyplot as plt\n",
    "from itertools import izip\n",
    "%matplotlib inline"
   ]
  },
  {
   "cell_type": "markdown",
   "metadata": {},
   "source": [
    "### Initialization"
   ]
  },
  {
   "cell_type": "code",
   "execution_count": 2,
   "metadata": {
    "collapsed": true
   },
   "outputs": [],
   "source": [
    "date_start = '2007-12-31'\n",
    "date_end = '2009-12-31'\n",
    "folder_strategy = 'out'\n",
    "file_strategy = 'bollingerstrategy' \n",
    "stock = 'IBM'\n",
    "\n",
    "dates = pd.date_range(date_start, date_end)\n",
    "file_name = os.path.join(folder_strategy, '{}.csv'.format(file_strategy))"
   ]
  },
  {
   "cell_type": "markdown",
   "metadata": {},
   "source": [
    "### Load Data"
   ]
  },
  {
   "cell_type": "code",
   "execution_count": 3,
   "metadata": {
    "collapsed": false
   },
   "outputs": [
    {
     "data": {
      "text/html": [
       "<div>\n",
       "<table border=\"1\" class=\"dataframe\">\n",
       "  <thead>\n",
       "    <tr style=\"text-align: right;\">\n",
       "      <th></th>\n",
       "      <th>Symbol</th>\n",
       "      <th>Order</th>\n",
       "      <th>Shares</th>\n",
       "      <th>Price</th>\n",
       "    </tr>\n",
       "    <tr>\n",
       "      <th>Date</th>\n",
       "      <th></th>\n",
       "      <th></th>\n",
       "      <th></th>\n",
       "      <th></th>\n",
       "    </tr>\n",
       "  </thead>\n",
       "  <tbody>\n",
       "    <tr>\n",
       "      <th>2008-07-01</th>\n",
       "      <td>IBM</td>\n",
       "      <td>BUY</td>\n",
       "      <td>5</td>\n",
       "      <td>110.40</td>\n",
       "    </tr>\n",
       "    <tr>\n",
       "      <th>2008-07-08</th>\n",
       "      <td>IBM</td>\n",
       "      <td>SELL</td>\n",
       "      <td>5</td>\n",
       "      <td>114.67</td>\n",
       "    </tr>\n",
       "    <tr>\n",
       "      <th>2008-08-21</th>\n",
       "      <td>IBM</td>\n",
       "      <td>BUY</td>\n",
       "      <td>5</td>\n",
       "      <td>114.29</td>\n",
       "    </tr>\n",
       "    <tr>\n",
       "      <th>2008-09-19</th>\n",
       "      <td>IBM</td>\n",
       "      <td>SELL</td>\n",
       "      <td>5</td>\n",
       "      <td>110.44</td>\n",
       "    </tr>\n",
       "    <tr>\n",
       "      <th>2008-10-10</th>\n",
       "      <td>IBM</td>\n",
       "      <td>BUY</td>\n",
       "      <td>5</td>\n",
       "      <td>81.54</td>\n",
       "    </tr>\n",
       "  </tbody>\n",
       "</table>\n",
       "</div>"
      ],
      "text/plain": [
       "           Symbol Order  Shares   Price\n",
       "Date                                   \n",
       "2008-07-01    IBM   BUY       5  110.40\n",
       "2008-07-08    IBM  SELL       5  114.67\n",
       "2008-08-21    IBM   BUY       5  114.29\n",
       "2008-09-19    IBM  SELL       5  110.44\n",
       "2008-10-10    IBM   BUY       5   81.54"
      ]
     },
     "execution_count": 3,
     "metadata": {},
     "output_type": "execute_result"
    }
   ],
   "source": [
    "# Load orders\n",
    "orders = pd.read_csv(file_name, index_col=0, parse_dates=True)\n",
    "orders.head()"
   ]
  },
  {
   "cell_type": "code",
   "execution_count": 4,
   "metadata": {
    "collapsed": false
   },
   "outputs": [
    {
     "data": {
      "text/html": [
       "<div>\n",
       "<table border=\"1\" class=\"dataframe\">\n",
       "  <thead>\n",
       "    <tr style=\"text-align: right;\">\n",
       "      <th></th>\n",
       "      <th>IBM</th>\n",
       "      <th>Order</th>\n",
       "      <th>Shares</th>\n",
       "    </tr>\n",
       "  </thead>\n",
       "  <tbody>\n",
       "    <tr>\n",
       "      <th>2007-12-31</th>\n",
       "      <td>99.27</td>\n",
       "      <td>NaN</td>\n",
       "      <td>NaN</td>\n",
       "    </tr>\n",
       "    <tr>\n",
       "      <th>2008-01-02</th>\n",
       "      <td>96.14</td>\n",
       "      <td>NaN</td>\n",
       "      <td>NaN</td>\n",
       "    </tr>\n",
       "    <tr>\n",
       "      <th>2008-01-03</th>\n",
       "      <td>96.34</td>\n",
       "      <td>NaN</td>\n",
       "      <td>NaN</td>\n",
       "    </tr>\n",
       "    <tr>\n",
       "      <th>2008-01-04</th>\n",
       "      <td>92.87</td>\n",
       "      <td>NaN</td>\n",
       "      <td>NaN</td>\n",
       "    </tr>\n",
       "    <tr>\n",
       "      <th>2008-01-07</th>\n",
       "      <td>91.88</td>\n",
       "      <td>NaN</td>\n",
       "      <td>NaN</td>\n",
       "    </tr>\n",
       "  </tbody>\n",
       "</table>\n",
       "</div>"
      ],
      "text/plain": [
       "              IBM Order  Shares\n",
       "2007-12-31  99.27   NaN     NaN\n",
       "2008-01-02  96.14   NaN     NaN\n",
       "2008-01-03  96.34   NaN     NaN\n",
       "2008-01-04  92.87   NaN     NaN\n",
       "2008-01-07  91.88   NaN     NaN"
      ]
     },
     "execution_count": 4,
     "metadata": {},
     "output_type": "execute_result"
    }
   ],
   "source": [
    "# Load stock data and join orders in the same DataFrame \n",
    "prices_all = get_data([stock], dates)\n",
    "df = prices_all[[stock]]\n",
    "df = df.join(orders[['Order', 'Shares']])\n",
    "df.head()"
   ]
  },
  {
   "cell_type": "markdown",
   "metadata": {},
   "source": [
    "### Back-Testing"
   ]
  },
  {
   "cell_type": "code",
   "execution_count": 31,
   "metadata": {
    "collapsed": false
   },
   "outputs": [
    {
     "data": {
      "text/html": [
       "<div>\n",
       "<table border=\"1\" class=\"dataframe\">\n",
       "  <thead>\n",
       "    <tr style=\"text-align: right;\">\n",
       "      <th></th>\n",
       "      <th>IBM</th>\n",
       "      <th>Order</th>\n",
       "      <th>Shares</th>\n",
       "      <th>daily_val</th>\n",
       "      <th>daily_return</th>\n",
       "      <th>cum_return</th>\n",
       "      <th>port_val</th>\n",
       "    </tr>\n",
       "  </thead>\n",
       "  <tbody>\n",
       "    <tr>\n",
       "      <th>2007-12-31</th>\n",
       "      <td>99.27</td>\n",
       "      <td>NaN</td>\n",
       "      <td>NaN</td>\n",
       "      <td>0.0</td>\n",
       "      <td>NaN</td>\n",
       "      <td>NaN</td>\n",
       "      <td>NaN</td>\n",
       "    </tr>\n",
       "    <tr>\n",
       "      <th>2008-01-02</th>\n",
       "      <td>96.14</td>\n",
       "      <td>NaN</td>\n",
       "      <td>NaN</td>\n",
       "      <td>0.0</td>\n",
       "      <td>0.0</td>\n",
       "      <td>0.0</td>\n",
       "      <td>NaN</td>\n",
       "    </tr>\n",
       "    <tr>\n",
       "      <th>2008-01-03</th>\n",
       "      <td>96.34</td>\n",
       "      <td>NaN</td>\n",
       "      <td>NaN</td>\n",
       "      <td>0.0</td>\n",
       "      <td>0.0</td>\n",
       "      <td>0.0</td>\n",
       "      <td>NaN</td>\n",
       "    </tr>\n",
       "    <tr>\n",
       "      <th>2008-01-04</th>\n",
       "      <td>92.87</td>\n",
       "      <td>NaN</td>\n",
       "      <td>NaN</td>\n",
       "      <td>0.0</td>\n",
       "      <td>0.0</td>\n",
       "      <td>0.0</td>\n",
       "      <td>NaN</td>\n",
       "    </tr>\n",
       "    <tr>\n",
       "      <th>2008-01-07</th>\n",
       "      <td>91.88</td>\n",
       "      <td>NaN</td>\n",
       "      <td>NaN</td>\n",
       "      <td>0.0</td>\n",
       "      <td>0.0</td>\n",
       "      <td>0.0</td>\n",
       "      <td>NaN</td>\n",
       "    </tr>\n",
       "  </tbody>\n",
       "</table>\n",
       "</div>"
      ],
      "text/plain": [
       "              IBM Order  Shares  daily_val  daily_return  cum_return  port_val\n",
       "2007-12-31  99.27   NaN     NaN        0.0           NaN         NaN       NaN\n",
       "2008-01-02  96.14   NaN     NaN        0.0           0.0         0.0       NaN\n",
       "2008-01-03  96.34   NaN     NaN        0.0           0.0         0.0       NaN\n",
       "2008-01-04  92.87   NaN     NaN        0.0           0.0         0.0       NaN\n",
       "2008-01-07  91.88   NaN     NaN        0.0           0.0         0.0       NaN"
      ]
     },
     "execution_count": 31,
     "metadata": {},
     "output_type": "execute_result"
    }
   ],
   "source": [
    "df['daily_val'] = 0.0\n",
    "hold = False\n",
    "\n",
    "# Compute portfolio daily value\n",
    "for i, row in df.iterrows():\n",
    "    \n",
    "    if row['Order'] == 'BUY':\n",
    "        hold = True\n",
    "        n_stocks = row['Shares']\n",
    "    \n",
    "    if hold == True:\n",
    "        df.loc[i, 'Shares'] = n_stocks # replicate shares when stock is hold\n",
    "        df.loc[i, 'daily_val'] = n_stocks * row[stock]\n",
    "\n",
    "    if row['Order'] == 'SELL':\n",
    "        hold = False\n",
    "\n",
    "# Compute daily returns\n",
    "df['daily_return'] = df['daily_val'].diff()        \n",
    "# Reset to 0 not valid daily_returns  \n",
    "for (index1, row1),(index2, row2) in izip(df.iterrows(), df[1:].iterrows()):\n",
    "    if np.isnan(row1['Shares']) or np.isnan(row2['Shares']):\n",
    "        df.loc[index2, 'daily_return'] = 0.0\n",
    "df['cum_return'] = df['daily_return'].cumsum()\n",
    "\n",
    "# Compute cumulative portfolio value\n",
    "T0 = df[df['Order']=='BUY'].index[0] # Timestamp @ first investment \n",
    "Val0 = df.ix[T0]['daily_val'] # Initial portfolio value\n",
    "df['port_val'] = df['cum_return'] + Val0\n",
    "df.loc[:df.index.get_loc(T0), 'port_val'] = np.nan\n",
    "\n",
    "df.head()      "
   ]
  },
  {
   "cell_type": "markdown",
   "metadata": {},
   "source": [
    "### Print Results"
   ]
  },
  {
   "cell_type": "code",
   "execution_count": 6,
   "metadata": {
    "collapsed": false,
    "scrolled": false
   },
   "outputs": [
    {
     "data": {
      "image/png": "[encoded data removed]",
      "text/plain": [
       "<matplotlib.figure.Figure at 0x3d1c7b8>"
      ]
     },
     "metadata": {},
     "output_type": "display_data"
    }
   ],
   "source": [
    "df_temp = pd.concat([df[stock]/df.ix[0][stock], df['port_val']/df.ix[T0]['port_val']], keys=[stock, 'Portfolio'], axis=1)\n",
    "#plot_data(df_temp)\n",
    "ax = df_temp.plot(figsize=(15, 10))\n",
    "\n",
    "# Plot Bollinger Strategy\n",
    "for day, key in orders.iterrows():\n",
    "    if key['Order'] == 'BUY':\n",
    "        ax.axvline(x=day, color='green')\n",
    "    elif key['Order'] == 'SELL':\n",
    "        ax.axvline(x=day, color='red')"
   ]
  },
  {
   "cell_type": "code",
   "execution_count": 14,
   "metadata": {
    "collapsed": false
   },
   "outputs": [
    {
     "data": {
      "text/html": [
       "<div>\n",
       "<table border=\"1\" class=\"dataframe\">\n",
       "  <thead>\n",
       "    <tr style=\"text-align: right;\">\n",
       "      <th></th>\n",
       "      <th>IBM</th>\n",
       "      <th>Order</th>\n",
       "      <th>Shares</th>\n",
       "      <th>daily_val</th>\n",
       "      <th>daily_return</th>\n",
       "      <th>cum_return</th>\n",
       "      <th>port_val</th>\n",
       "    </tr>\n",
       "  </thead>\n",
       "  <tbody>\n",
       "    <tr>\n",
       "      <th>2007-12-31</th>\n",
       "      <td>99.27</td>\n",
       "      <td>NaN</td>\n",
       "      <td>NaN</td>\n",
       "      <td>0.0</td>\n",
       "      <td>NaN</td>\n",
       "      <td>NaN</td>\n",
       "      <td>NaN</td>\n",
       "    </tr>\n",
       "    <tr>\n",
       "      <th>2008-01-02</th>\n",
       "      <td>96.14</td>\n",
       "      <td>NaN</td>\n",
       "      <td>NaN</td>\n",
       "      <td>0.0</td>\n",
       "      <td>0.0</td>\n",
       "      <td>0.0</td>\n",
       "      <td>NaN</td>\n",
       "    </tr>\n",
       "    <tr>\n",
       "      <th>2008-01-03</th>\n",
       "      <td>96.34</td>\n",
       "      <td>NaN</td>\n",
       "      <td>NaN</td>\n",
       "      <td>0.0</td>\n",
       "      <td>0.0</td>\n",
       "      <td>0.0</td>\n",
       "      <td>NaN</td>\n",
       "    </tr>\n",
       "    <tr>\n",
       "      <th>2008-01-04</th>\n",
       "      <td>92.87</td>\n",
       "      <td>NaN</td>\n",
       "      <td>NaN</td>\n",
       "      <td>0.0</td>\n",
       "      <td>0.0</td>\n",
       "      <td>0.0</td>\n",
       "      <td>NaN</td>\n",
       "    </tr>\n",
       "    <tr>\n",
       "      <th>2008-01-07</th>\n",
       "      <td>91.88</td>\n",
       "      <td>NaN</td>\n",
       "      <td>NaN</td>\n",
       "      <td>0.0</td>\n",
       "      <td>0.0</td>\n",
       "      <td>0.0</td>\n",
       "      <td>NaN</td>\n",
       "    </tr>\n",
       "  </tbody>\n",
       "</table>\n",
       "</div>"
      ],
      "text/plain": [
       "              IBM Order  Shares  daily_val  daily_return  cum_return  port_val\n",
       "2007-12-31  99.27   NaN     NaN        0.0           NaN         NaN       NaN\n",
       "2008-01-02  96.14   NaN     NaN        0.0           0.0         0.0       NaN\n",
       "2008-01-03  96.34   NaN     NaN        0.0           0.0         0.0       NaN\n",
       "2008-01-04  92.87   NaN     NaN        0.0           0.0         0.0       NaN\n",
       "2008-01-07  91.88   NaN     NaN        0.0           0.0         0.0       NaN"
      ]
     },
     "execution_count": 14,
     "metadata": {},
     "output_type": "execute_result"
    }
   ],
   "source": [
    "df.head()"
   ]
  },
  {
   "cell_type": "code",
   "execution_count": 30,
   "metadata": {
    "collapsed": false
   },
   "outputs": [
    {
     "data": {
      "text/plain": [
       "nan"
      ]
     },
     "execution_count": 30,
     "metadata": {},
     "output_type": "execute_result"
    }
   ],
   "source": [
    "from utils.util import compute_daily_returns, compute_sharpe_ratio, compute_cumulative_returns\n",
    "daily_ret = compute_daily_returns(df['port_val'])\n",
    "compute_sharpe_ratio(df['port_val'])\n",
    "compute_cumulative_returns(df['port_val'])"
   ]
  },
  {
   "cell_type": "code",
   "execution_count": null,
   "metadata": {
    "collapsed": true
   },
   "outputs": [],
   "source": []
  }
 ],
 "metadata": {
  "kernelspec": {
   "display_name": "Python 2",
   "language": "python",
   "name": "python2"
  },
  "language_info": {
   "codemirror_mode": {
    "name": "ipython",
    "version": 2
   },
   "file_extension": ".py",
   "mimetype": "text/x-python",
   "name": "python",
   "nbconvert_exporter": "python",
   "pygments_lexer": "ipython2",
   "version": "2.7.11"
  }
 },
 "nbformat": 4,
 "nbformat_minor": 0
}
