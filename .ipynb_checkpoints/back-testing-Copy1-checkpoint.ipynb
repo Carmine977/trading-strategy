{
 "cells": [
  {
   "cell_type": "markdown",
   "metadata": {},
   "source": [
    "# Back-testing Simulator"
   ]
  },
  {
   "cell_type": "markdown",
   "metadata": {},
   "source": [
    "### Load Libraries"
   ]
  },
  {
   "cell_type": "code",
   "execution_count": 1,
   "metadata": {
    "collapsed": true
   },
   "outputs": [],
   "source": [
    "import pandas as pd\n",
    "import numpy as np\n",
    "from utils.util import get_data, plot_data, get_bollinger_bands\n",
    "import matplotlib.pyplot as plt\n",
    "%matplotlib inline"
   ]
  },
  {
   "cell_type": "markdown",
   "metadata": {},
   "source": [
    "### Initialization"
   ]
  },
  {
   "cell_type": "code",
   "execution_count": null,
   "metadata": {
    "collapsed": true
   },
   "outputs": [],
   "source": [
    "date_start = '2007-12-31'\n",
    "date_end = '2009-12-31'\n",
    "\n",
    "stock = 'IBM'\n",
    "file_name = 'out\\\\backtest.csv'\n",
    "\n",
    "dates = pd.date_range(date_start, date_end)"
   ]
  },
  {
   "cell_type": "markdown",
   "metadata": {},
   "source": [
    "### Load Data"
   ]
  },
  {
   "cell_type": "code",
   "execution_count": null,
   "metadata": {
    "collapsed": false,
    "scrolled": false
   },
   "outputs": [],
   "source": [
    "orders = pd.read_csv(file_name, index_col=0, parse_dates=True)\n",
    "orders"
   ]
  },
  {
   "cell_type": "code",
   "execution_count": null,
   "metadata": {
    "collapsed": false
   },
   "outputs": [],
   "source": [
    "prices_all = get_data([stock], dates)\n",
    "df = prices_all[[stock]]\n",
    "df = df.join(orders[['Order', 'Shares']])\n",
    "df['daily_val'] = 0.0\n",
    "df.tail(8)"
   ]
  },
  {
   "cell_type": "code",
   "execution_count": null,
   "metadata": {
    "collapsed": false
   },
   "outputs": [],
   "source": [
    "trading = False\n",
    "\n",
    "for i, row in df.iterrows():\n",
    "\n",
    "    if row['Order'] == 'BUY':\n",
    "        trading = True\n",
    "        n_stocks = row['Shares']\n",
    "   \n",
    "    if trading == True:        \n",
    "        df.loc[i, 'daily_val'] = n_stocks * row[stock]\n",
    "    \n",
    "    if row['Order'] == 'SELL':\n",
    "        trading = False\n",
    "        \n",
    "df['daily_diff'] = df['daily_val'].diff()"
   ]
  },
  {
   "cell_type": "code",
   "execution_count": null,
   "metadata": {
    "collapsed": false
   },
   "outputs": [],
   "source": [
    "ix_buy = df[df['Order'] == 'BUY'].index\n",
    "df.loc[ix_buy, 'daily_diff'] = 0.0"
   ]
  },
  {
   "cell_type": "code",
   "execution_count": null,
   "metadata": {
    "collapsed": false
   },
   "outputs": [],
   "source": [
    "ix_sell = df[df['Order'] == 'SELL'].index\n",
    "df_temp = df['daily_diff'].shift(-1)\n",
    "df_temp.loc[ix_sell] = 0.0\n",
    "df['daily_diff'] = df_temp.shift(+1) "
   ]
  },
  {
   "cell_type": "code",
   "execution_count": null,
   "metadata": {
    "collapsed": false
   },
   "outputs": [],
   "source": [
    "buy0 = df[df['Order']=='BUY'].index[0]\n",
    "daily_diff_temp = df['daily_diff'].copy()\n",
    "daily_diff_temp.ix[buy0] = df.ix[buy0]['daily_val']\n",
    "daily_diff_temp.iloc[:daily_diff_temp.index.get_loc(buy0)] = np.nan\n",
    "df['cum_val'] = daily_diff_temp.cumsum()\n",
    "df"
   ]
  },
  {
   "cell_type": "code",
   "execution_count": null,
   "metadata": {
    "collapsed": false
   },
   "outputs": [],
   "source": [
    "df_temp = pd.concat([df[stock]/df.ix[0][stock], df['cum_val']/df.ix[buy0 ]['cum_val']], keys=[stock, 'Portfolio'], axis=1)\n",
    "plot_data(df_temp)"
   ]
  },
  {
   "cell_type": "code",
   "execution_count": null,
   "metadata": {
    "collapsed": true
   },
   "outputs": [],
   "source": []
  }
 ],
 "metadata": {
  "kernelspec": {
   "display_name": "Python 2",
   "language": "python",
   "name": "python2"
  },
  "language_info": {
   "codemirror_mode": {
    "name": "ipython",
    "version": 2
   },
   "file_extension": ".py",
   "mimetype": "text/x-python",
   "name": "python",
   "nbconvert_exporter": "python",
   "pygments_lexer": "ipython2",
   "version": "2.7.11"
  }
 },
 "nbformat": 4,
 "nbformat_minor": 0
}
